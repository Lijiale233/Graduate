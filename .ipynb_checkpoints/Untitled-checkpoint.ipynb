{
 "cells": [
  {
   "cell_type": "code",
   "execution_count": 15,
   "metadata": {},
   "outputs": [
    {
     "data": {
      "text/plain": [
       "{'AnimationClip': {'m_ObjectHideFlags': 0,\n",
       "  'm_CorrespondingSourceObject': {'fileID': 0},\n",
       "  'm_PrefabInstance': {'fileID': 0},\n",
       "  'm_PrefabAsset': {'fileID': 0},\n",
       "  'm_Name': 'test',\n",
       "  'serializedVersion': 7,\n",
       "  'm_Legacy': 0,\n",
       "  'm_Compressed': 0,\n",
       "  'm_UseHighQualityCurve': 1,\n",
       "  'm_RotationCurves': [],\n",
       "  'm_CompressedRotationCurves': [],\n",
       "  'm_EulerCurves': [{'curve': {'serializedVersion': 2,\n",
       "     'm_Curve': [{'serializedVersion': 3,\n",
       "       'time': 0,\n",
       "       'value': {'x': 0, 'y': 0, 'z': 28.623},\n",
       "       'inSlope': {'x': 0, 'y': 0, 'z': 0},\n",
       "       'outSlope': {'x': 0, 'y': 0, 'z': 0},\n",
       "       'tangentMode': 0,\n",
       "       'weightedMode': 0,\n",
       "       'inWeight': {'x': 0.33333334, 'y': 0.33333334, 'z': 0.33333334},\n",
       "       'outWeight': {'x': 0.33333334, 'y': 0.33333334, 'z': 0.33333334}},\n",
       "      {'serializedVersion': 3,\n",
       "       'time': 1,\n",
       "       'value': {'x': 0, 'y': 0, 'z': 28.623},\n",
       "       'inSlope': {'x': 0, 'y': 0, 'z': 0},\n",
       "       'outSlope': {'x': 0, 'y': 0, 'z': 0},\n",
       "       'tangentMode': 0,\n",
       "       'weightedMode': 0,\n",
       "       'inWeight': {'x': 0.33333334, 'y': 0.33333334, 'z': 0.33333334},\n",
       "       'outWeight': {'x': 0.33333334, 'y': 0.33333334, 'z': 0.33333334}}],\n",
       "     'm_PreInfinity': 2,\n",
       "     'm_PostInfinity': 2,\n",
       "     'm_RotationOrder': 4},\n",
       "    'path': 'bone_1/bone_5'}],\n",
       "  'm_PositionCurves': []}}"
      ]
     },
     "execution_count": 15,
     "metadata": {},
     "output_type": "execute_result"
    }
   ],
   "source": [
    "import yaml\n",
    "\n",
    "with open('testsmall.yaml', encoding='utf-8') as file:\n",
    "    dictfile = yaml.load(file)  # 为列表类型\n",
    "dictfile"
   ]
  },
  {
   "cell_type": "code",
   "execution_count": 16,
   "metadata": {},
   "outputs": [],
   "source": [
    "#print(yaml.dump(dictfile))"
   ]
  },
  {
   "cell_type": "code",
   "execution_count": 17,
   "metadata": {},
   "outputs": [
    {
     "name": "stdout",
     "output_type": "stream",
     "text": [
      "AnimationClip:\n",
      "  m_Compressed: 0\n",
      "  m_CompressedRotationCurves: []\n",
      "  m_CorrespondingSourceObject: {fileID: 0}\n",
      "  m_EulerCurves:\n",
      "  - curve:\n",
      "      m_Curve:\n",
      "      - inSlope: {x: 0, y: 0, z: 0}\n",
      "        inWeight: {x: 0.33333334, y: 0.33333334, z: 0.33333334}\n",
      "        outSlope: {x: 0, y: 0, z: 0}\n",
      "        outWeight: {x: 0.33333334, y: 0.33333334, z: 0.33333334}\n",
      "        serializedVersion: 3\n",
      "        tangentMode: 0\n",
      "        time: 0\n",
      "        value: {x: 0, y: 0, z: 28.623}\n",
      "        weightedMode: 0\n",
      "      - inSlope: {x: 0, y: 0, z: 0}\n",
      "        inWeight: {x: 0.33333334, y: 0.33333334, z: 0.33333334}\n",
      "        outSlope: {x: 0, y: 0, z: 0}\n",
      "        outWeight: {x: 0.33333334, y: 0.33333334, z: 0.33333334}\n",
      "        serializedVersion: 3\n",
      "        tangentMode: 0\n",
      "        time: 1\n",
      "        value: {x: 0, y: 0, z: 28.623}\n",
      "        weightedMode: 0\n",
      "      m_PostInfinity: 2\n",
      "      m_PreInfinity: 2\n",
      "      m_RotationOrder: 4\n",
      "      serializedVersion: 2\n",
      "    path: bone_1/bone_5\n",
      "  m_Legacy: 0\n",
      "  m_Name: test\n",
      "  m_ObjectHideFlags: 0\n",
      "  m_PositionCurves: []\n",
      "  m_PrefabAsset: {fileID: 0}\n",
      "  m_PrefabInstance: {fileID: 0}\n",
      "  m_RotationCurves: []\n",
      "  m_UseHighQualityCurve: 1\n",
      "  serializedVersion: 7\n",
      "\n"
     ]
    }
   ],
   "source": [
    "print(yaml.dump(dictfile))"
   ]
  },
  {
   "cell_type": "code",
   "execution_count": 14,
   "metadata": {},
   "outputs": [
    {
     "ename": "TypeError",
     "evalue": "YAML.dump(_all) takes two positional argument but at least three were given (<_io.TextIOWrapper name='newTest.yaml' mode='w' encoding='utf-8'>)",
     "output_type": "error",
     "traceback": [
      "\u001b[1;31m---------------------------------------------------------------------------\u001b[0m",
      "\u001b[1;31mTypeError\u001b[0m                                 Traceback (most recent call last)",
      "\u001b[1;32m<ipython-input-14-076d75e0224c>\u001b[0m in \u001b[0;36m<module>\u001b[1;34m()\u001b[0m\n\u001b[0;32m      1\u001b[0m \u001b[1;32mwith\u001b[0m \u001b[0mopen\u001b[0m\u001b[1;33m(\u001b[0m\u001b[1;34m'newTest.yaml'\u001b[0m\u001b[1;33m,\u001b[0m \u001b[0mmode\u001b[0m\u001b[1;33m=\u001b[0m\u001b[1;34m'w'\u001b[0m\u001b[1;33m,\u001b[0m \u001b[0mencoding\u001b[0m\u001b[1;33m=\u001b[0m\u001b[1;34m'utf-8'\u001b[0m\u001b[1;33m)\u001b[0m \u001b[1;32mas\u001b[0m \u001b[0mfile\u001b[0m\u001b[1;33m:\u001b[0m\u001b[1;33m\u001b[0m\u001b[0m\n\u001b[1;32m----> 2\u001b[1;33m     \u001b[0myaml\u001b[0m\u001b[1;33m.\u001b[0m\u001b[0mdump\u001b[0m\u001b[1;33m(\u001b[0m\u001b[0manimation_file\u001b[0m\u001b[1;33m,\u001b[0m \u001b[1;32mFalse\u001b[0m\u001b[1;33m,\u001b[0m \u001b[0mfile\u001b[0m\u001b[1;33m)\u001b[0m\u001b[1;33m\u001b[0m\u001b[0m\n\u001b[0m",
      "\u001b[1;32m~\\Anaconda3\\lib\\site-packages\\ruamel_yaml\\main.py\u001b[0m in \u001b[0;36mdump\u001b[1;34m(self, data, stream, _kw, transform)\u001b[0m\n\u001b[0;32m    352\u001b[0m     \u001b[1;32mdef\u001b[0m \u001b[0mdump\u001b[0m\u001b[1;33m(\u001b[0m\u001b[0mself\u001b[0m\u001b[1;33m,\u001b[0m \u001b[0mdata\u001b[0m\u001b[1;33m,\u001b[0m \u001b[0mstream\u001b[0m\u001b[1;33m,\u001b[0m \u001b[0m_kw\u001b[0m\u001b[1;33m=\u001b[0m\u001b[0menforce\u001b[0m\u001b[1;33m,\u001b[0m \u001b[0mtransform\u001b[0m\u001b[1;33m=\u001b[0m\u001b[1;32mNone\u001b[0m\u001b[1;33m)\u001b[0m\u001b[1;33m:\u001b[0m\u001b[1;33m\u001b[0m\u001b[0m\n\u001b[0;32m    353\u001b[0m         \u001b[1;31m# type: (Any, StreamType, Any, Any) -> Any\u001b[0m\u001b[1;33m\u001b[0m\u001b[1;33m\u001b[0m\u001b[0m\n\u001b[1;32m--> 354\u001b[1;33m         \u001b[1;32mreturn\u001b[0m \u001b[0mself\u001b[0m\u001b[1;33m.\u001b[0m\u001b[0mdump_all\u001b[0m\u001b[1;33m(\u001b[0m\u001b[1;33m[\u001b[0m\u001b[0mdata\u001b[0m\u001b[1;33m]\u001b[0m\u001b[1;33m,\u001b[0m \u001b[0mstream\u001b[0m\u001b[1;33m,\u001b[0m \u001b[0m_kw\u001b[0m\u001b[1;33m,\u001b[0m \u001b[0mtransform\u001b[0m\u001b[1;33m=\u001b[0m\u001b[0mtransform\u001b[0m\u001b[1;33m)\u001b[0m\u001b[1;33m\u001b[0m\u001b[0m\n\u001b[0m\u001b[0;32m    355\u001b[0m \u001b[1;33m\u001b[0m\u001b[0m\n\u001b[0;32m    356\u001b[0m     \u001b[1;32mdef\u001b[0m \u001b[0mdump_all\u001b[0m\u001b[1;33m(\u001b[0m\u001b[0mself\u001b[0m\u001b[1;33m,\u001b[0m \u001b[0mdocuments\u001b[0m\u001b[1;33m,\u001b[0m \u001b[0mstream\u001b[0m\u001b[1;33m,\u001b[0m \u001b[0m_kw\u001b[0m\u001b[1;33m=\u001b[0m\u001b[0menforce\u001b[0m\u001b[1;33m,\u001b[0m \u001b[0mtransform\u001b[0m\u001b[1;33m=\u001b[0m\u001b[1;32mNone\u001b[0m\u001b[1;33m)\u001b[0m\u001b[1;33m:\u001b[0m\u001b[1;33m\u001b[0m\u001b[0m\n",
      "\u001b[1;32m~\\Anaconda3\\lib\\site-packages\\ruamel_yaml\\main.py\u001b[0m in \u001b[0;36mdump_all\u001b[1;34m(self, documents, stream, _kw, transform)\u001b[0m\n\u001b[0;32m    365\u001b[0m         \u001b[1;32mif\u001b[0m \u001b[0m_kw\u001b[0m \u001b[1;32mis\u001b[0m \u001b[1;32mnot\u001b[0m \u001b[0menforce\u001b[0m\u001b[1;33m:\u001b[0m\u001b[1;33m\u001b[0m\u001b[0m\n\u001b[0;32m    366\u001b[0m             raise TypeError(\"{}.dump(_all) takes two positional argument but at least \"\n\u001b[1;32m--> 367\u001b[1;33m                             \"three were given ({!r})\".format(self.__class__.__name__, _kw))\n\u001b[0m\u001b[0;32m    368\u001b[0m         \u001b[1;31m# The stream should have the methods `write` and possibly `flush`.\u001b[0m\u001b[1;33m\u001b[0m\u001b[1;33m\u001b[0m\u001b[0m\n\u001b[0;32m    369\u001b[0m         \u001b[1;32mif\u001b[0m \u001b[0mself\u001b[0m\u001b[1;33m.\u001b[0m\u001b[0mtop_level_colon_align\u001b[0m \u001b[1;32mis\u001b[0m \u001b[1;32mTrue\u001b[0m\u001b[1;33m:\u001b[0m\u001b[1;33m\u001b[0m\u001b[0m\n",
      "\u001b[1;31mTypeError\u001b[0m: YAML.dump(_all) takes two positional argument but at least three were given (<_io.TextIOWrapper name='newTest.yaml' mode='w' encoding='utf-8'>)"
     ]
    }
   ],
   "source": [
    "with open('newTest.yaml', mode='w', encoding='utf-8') as file:\n",
    "    yaml.dump(animation_file, False, file)"
   ]
  }
 ],
 "metadata": {
  "kernelspec": {
   "display_name": "Python 3",
   "language": "python",
   "name": "python3"
  },
  "language_info": {
   "codemirror_mode": {
    "name": "ipython",
    "version": 3
   },
   "file_extension": ".py",
   "mimetype": "text/x-python",
   "name": "python",
   "nbconvert_exporter": "python",
   "pygments_lexer": "ipython3",
   "version": "3.6.5"
  }
 },
 "nbformat": 4,
 "nbformat_minor": 2
}
