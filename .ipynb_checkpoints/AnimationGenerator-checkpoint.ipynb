{
 "cells": [
  {
   "cell_type": "code",
   "execution_count": 1,
   "metadata": {},
   "outputs": [],
   "source": [
    "import yaml\n",
    "import copy"
   ]
  },
  {
   "cell_type": "code",
   "execution_count": 1,
   "metadata": {},
   "outputs": [],
   "source": [
    "def updateDict(old_value,new_dict):\n",
    "    old_value.update(new_dict)\n",
    "    new_value = old_value\n",
    "    return new_value"
   ]
  },
  {
   "cell_type": "code",
   "execution_count": 2,
   "metadata": {},
   "outputs": [
    {
     "data": {
      "text/plain": "'bone_1/bone_5'"
     },
     "execution_count": 2,
     "metadata": {},
     "output_type": "execute_result"
    }
   ],
   "source": [
    "#骨骼点编号对应关系\n",
    "bone5 = \"bone_1/bone_5\"\n",
    "bone5"
   ]
  },
  {
   "cell_type": "code",
   "execution_count": 4,
   "metadata": {},
   "outputs": [],
   "source": [
    "#由骨骼捕捉输入数据\n",
    "model_output ={\"bone5\": {\"time\":[0.5],\"zRot\":[100]}}"
   ]
  },
  {
   "cell_type": "code",
   "execution_count": 5,
   "metadata": {},
   "outputs": [],
   "source": [
    "#基于输入数据更新输出数据\n",
    "bones_keyValue={\"bone5\": {\"time\":[0.5],\"zRot\":[100]}}"
   ]
  },
  {
   "cell_type": "code",
   "execution_count": 6,
   "metadata": {
    "scrolled": true
   },
   "outputs": [
    {
     "name": "stderr",
     "output_type": "stream",
     "text": [
      "C:\\Users\\PC\\Anaconda3\\lib\\site-packages\\ipykernel_launcher.py:3: YAMLLoadWarning: calling yaml.load() without Loader=... is deprecated, as the default Loader is unsafe. Please read https://msg.pyyaml.org/load for full details.\n",
      "  This is separate from the ipykernel package so we can avoid doing imports until\n"
     ]
    },
    {
     "data": {
      "text/plain": [
       "{'serializedVersion': 3,\n",
       " 'time': 0,\n",
       " 'value': {'x': 0, 'y': 0, 'z': 28.623},\n",
       " 'inSlope': {'x': 0, 'y': 0, 'z': 0},\n",
       " 'outSlope': {'x': 0, 'y': 0, 'z': 0},\n",
       " 'tangentMode': 0,\n",
       " 'weightedMode': 0,\n",
       " 'inWeight': {'x': 0.33333334, 'y': 0.33333334, 'z': 0.33333334},\n",
       " 'outWeight': {'x': 0.33333334, 'y': 0.33333334, 'z': 0.33333334}}"
      ]
     },
     "execution_count": 6,
     "metadata": {},
     "output_type": "execute_result"
    }
   ],
   "source": [
    "#从animation源文件中读入数据样板，animation文件按照默认位置和动画时间长短了指定startpoint 以及endpoint的关键帧信息\n",
    "with open('test.yaml', encoding='utf-8') as file:\n",
    "    animation_file = yaml.load(file)  # 为列表类型\n",
    "animation_clip = animation_file.get('AnimationClip')\n",
    "euler_curves = animation_clip.get('m_EulerCurves')\n",
    "bone5_curve = euler_curves[0].get('curve').get('m_Curve') #参考骨骼编号对照表，得到对应骨骼的帧序列\n",
    "key_format = copy.deepcopy(bone5_curve[0])# 传值不传址\n",
    "key_format"
   ]
  },
  {
   "cell_type": "code",
   "execution_count": 7,
   "metadata": {},
   "outputs": [
    {
     "data": {
      "text/plain": [
       "[{'serializedVersion': 3,\n",
       "  'time': 0.5,\n",
       "  'value': {'x': 0, 'y': 0, 'z': 100},\n",
       "  'inSlope': {'x': 0, 'y': 0, 'z': 0},\n",
       "  'outSlope': {'x': 0, 'y': 0, 'z': 0},\n",
       "  'tangentMode': 0,\n",
       "  'weightedMode': 0,\n",
       "  'inWeight': {'x': 0.33333334, 'y': 0.33333334, 'z': 0.33333334},\n",
       "  'outWeight': {'x': 0.33333334, 'y': 0.33333334, 'z': 0.33333334}}]"
      ]
     },
     "execution_count": 7,
     "metadata": {},
     "output_type": "execute_result"
    }
   ],
   "source": [
    "#新建关键帧数据 bone5_keys\n",
    "bone5_keyValue= bones_keyValue.get(\"bone5\")\n",
    "bone5_keys = [key_format for i in range(len(bone5_keyValue.get(\"time\")))]\n",
    "for index, key in enumerate(bone5_keys):\n",
    "    key = key_format\n",
    "    key.update({\"time\": bone5_keyValue.get(\"time\")[index]})\n",
    "    key.update({\"value\": {'x': 0, 'y': 0, 'z': bone5_keyValue.get(\"zRot\")[index]}})\n",
    "    bone5_keys[index] = key\n",
    "bone5_keys #完成更新"
   ]
  },
  {
   "cell_type": "code",
   "execution_count": 8,
   "metadata": {},
   "outputs": [
    {
     "data": {
      "text/plain": [
       "[{'serializedVersion': 3,\n",
       "  'time': 0,\n",
       "  'value': {'x': 0, 'y': 0, 'z': 28.623},\n",
       "  'inSlope': {'x': 0, 'y': 0, 'z': 0},\n",
       "  'outSlope': {'x': 0, 'y': 0, 'z': 0},\n",
       "  'tangentMode': 0,\n",
       "  'weightedMode': 0,\n",
       "  'inWeight': {'x': 0.33333334, 'y': 0.33333334, 'z': 0.33333334},\n",
       "  'outWeight': {'x': 0.33333334, 'y': 0.33333334, 'z': 0.33333334}},\n",
       " {'serializedVersion': 3,\n",
       "  'time': 0.5,\n",
       "  'value': {'x': 0, 'y': 0, 'z': 100},\n",
       "  'inSlope': {'x': 0, 'y': 0, 'z': 0},\n",
       "  'outSlope': {'x': 0, 'y': 0, 'z': 0},\n",
       "  'tangentMode': 0,\n",
       "  'weightedMode': 0,\n",
       "  'inWeight': {'x': 0.33333334, 'y': 0.33333334, 'z': 0.33333334},\n",
       "  'outWeight': {'x': 0.33333334, 'y': 0.33333334, 'z': 0.33333334}},\n",
       " {'serializedVersion': 3,\n",
       "  'time': 1,\n",
       "  'value': {'x': 0, 'y': 0, 'z': 28.623},\n",
       "  'inSlope': {'x': 0, 'y': 0, 'z': 0},\n",
       "  'outSlope': {'x': 0, 'y': 0, 'z': 0},\n",
       "  'tangentMode': 0,\n",
       "  'weightedMode': 0,\n",
       "  'inWeight': {'x': 0.33333334, 'y': 0.33333334, 'z': 0.33333334},\n",
       "  'outWeight': {'x': 0.33333334, 'y': 0.33333334, 'z': 0.33333334}}]"
      ]
     },
     "execution_count": 8,
     "metadata": {},
     "output_type": "execute_result"
    }
   ],
   "source": [
    "#将新的关键帧数据插入到帧序列之中（只需要插入中间位置即可）\n",
    "start_key = copy.deepcopy([bone5_curve[0]])\n",
    "end_key = copy.deepcopy([bone5_curve[1]])\n",
    "start_key.extend(bone5_keys)\n",
    "start_key.extend(end_key)\n",
    "bone5_curve = start_key\n",
    "bone5_curve"
   ]
  },
  {
   "cell_type": "code",
   "execution_count": 9,
   "metadata": {},
   "outputs": [
    {
     "data": {
      "text/plain": [
       "[{'curve': {'serializedVersion': 2,\n",
       "   'm_Curve': [{'serializedVersion': 3,\n",
       "     'time': 0,\n",
       "     'value': {'x': 0, 'y': 0, 'z': 28.623},\n",
       "     'inSlope': {'x': 0, 'y': 0, 'z': 0},\n",
       "     'outSlope': {'x': 0, 'y': 0, 'z': 0},\n",
       "     'tangentMode': 0,\n",
       "     'weightedMode': 0,\n",
       "     'inWeight': {'x': 0.33333334, 'y': 0.33333334, 'z': 0.33333334},\n",
       "     'outWeight': {'x': 0.33333334, 'y': 0.33333334, 'z': 0.33333334}},\n",
       "    {'serializedVersion': 3,\n",
       "     'time': 1,\n",
       "     'value': {'x': 0, 'y': 0, 'z': 28.623},\n",
       "     'inSlope': {'x': 0, 'y': 0, 'z': 0},\n",
       "     'outSlope': {'x': 0, 'y': 0, 'z': 0},\n",
       "     'tangentMode': 0,\n",
       "     'weightedMode': 0,\n",
       "     'inWeight': {'x': 0.33333334, 'y': 0.33333334, 'z': 0.33333334},\n",
       "     'outWeight': {'x': 0.33333334, 'y': 0.33333334, 'z': 0.33333334}}],\n",
       "   'm_PreInfinity': 2,\n",
       "   'm_PostInfinity': 2,\n",
       "   'm_RotationOrder': 4},\n",
       "  'path': 'bone_1/bone_5'}]"
      ]
     },
     "execution_count": 9,
     "metadata": {},
     "output_type": "execute_result"
    }
   ],
   "source": [
    "#还原animation文档\n",
    "old_euler_curves = copy.deepcopy(euler_curves)\n",
    "old_animation_clip = copy.deepcopy(animation_clip)\n",
    "old_animation_file = copy.deepcopy(animation_file)\n",
    "old_euler_curves"
   ]
  },
  {
   "cell_type": "code",
   "execution_count": 10,
   "metadata": {},
   "outputs": [
    {
     "data": {
      "text/plain": [
       "{'AnimationClip': {'m_ObjectHideFlags': 0,\n",
       "  'm_CorrespondingSourceObject': {'fileID': 0},\n",
       "  'm_PrefabInstance': {'fileID': 0},\n",
       "  'm_PrefabAsset': {'fileID': 0},\n",
       "  'm_Name': 'test',\n",
       "  'serializedVersion': 7,\n",
       "  'm_Legacy': 0,\n",
       "  'm_Compressed': 0,\n",
       "  'm_UseHighQualityCurve': 1,\n",
       "  'm_RotationCurves': [],\n",
       "  'm_CompressedRotationCurves': [],\n",
       "  'm_EulerCurves': [{'curve': [{'serializedVersion': 3,\n",
       "      'time': 0,\n",
       "      'value': {'x': 0, 'y': 0, 'z': 28.623},\n",
       "      'inSlope': {'x': 0, 'y': 0, 'z': 0},\n",
       "      'outSlope': {'x': 0, 'y': 0, 'z': 0},\n",
       "      'tangentMode': 0,\n",
       "      'weightedMode': 0,\n",
       "      'inWeight': {'x': 0.33333334, 'y': 0.33333334, 'z': 0.33333334},\n",
       "      'outWeight': {'x': 0.33333334, 'y': 0.33333334, 'z': 0.33333334}},\n",
       "     {'serializedVersion': 3,\n",
       "      'time': 0.5,\n",
       "      'value': {'x': 0, 'y': 0, 'z': 100},\n",
       "      'inSlope': {'x': 0, 'y': 0, 'z': 0},\n",
       "      'outSlope': {'x': 0, 'y': 0, 'z': 0},\n",
       "      'tangentMode': 0,\n",
       "      'weightedMode': 0,\n",
       "      'inWeight': {'x': 0.33333334, 'y': 0.33333334, 'z': 0.33333334},\n",
       "      'outWeight': {'x': 0.33333334, 'y': 0.33333334, 'z': 0.33333334}},\n",
       "     {'serializedVersion': 3,\n",
       "      'time': 1,\n",
       "      'value': {'x': 0, 'y': 0, 'z': 28.623},\n",
       "      'inSlope': {'x': 0, 'y': 0, 'z': 0},\n",
       "      'outSlope': {'x': 0, 'y': 0, 'z': 0},\n",
       "      'tangentMode': 0,\n",
       "      'weightedMode': 0,\n",
       "      'inWeight': {'x': 0.33333334, 'y': 0.33333334, 'z': 0.33333334},\n",
       "      'outWeight': {'x': 0.33333334, 'y': 0.33333334, 'z': 0.33333334}}],\n",
       "    'path': 'bone_1/bone_5'}],\n",
       "  'm_PositionCurves': [],\n",
       "  'm_ScaleCurves': [],\n",
       "  'm_FloatCurves': [],\n",
       "  'm_PPtrCurves': [],\n",
       "  'm_SampleRate': 60,\n",
       "  'm_WrapMode': 0,\n",
       "  'm_Bounds': {'m_Center': {'x': 0, 'y': 0, 'z': 0},\n",
       "   'm_Extent': {'x': 0, 'y': 0, 'z': 0}},\n",
       "  'm_ClipBindingConstant': {'genericBindings': [{'serializedVersion': 2,\n",
       "     'path': 1931705947,\n",
       "     'attribute': 4,\n",
       "     'script': {'fileID': 0},\n",
       "     'typeID': 4,\n",
       "     'customType': 4,\n",
       "     'isPPtrCurve': 0}],\n",
       "   'pptrCurveMapping': []},\n",
       "  'm_AnimationClipSettings': {'serializedVersion': 2,\n",
       "   'm_AdditiveReferencePoseClip': {'fileID': 0},\n",
       "   'm_AdditiveReferencePoseTime': 0,\n",
       "   'm_StartTime': 0,\n",
       "   'm_StopTime': 1,\n",
       "   'm_OrientationOffsetY': 0,\n",
       "   'm_Level': 0,\n",
       "   'm_CycleOffset': 0,\n",
       "   'm_HasAdditiveReferencePose': 0,\n",
       "   'm_LoopTime': 1,\n",
       "   'm_LoopBlend': 0,\n",
       "   'm_LoopBlendOrientation': 0,\n",
       "   'm_LoopBlendPositionY': 0,\n",
       "   'm_LoopBlendPositionXZ': 0,\n",
       "   'm_KeepOriginalOrientation': 0,\n",
       "   'm_KeepOriginalPositionY': 1,\n",
       "   'm_KeepOriginalPositionXZ': 0,\n",
       "   'm_HeightFromFeet': 0,\n",
       "   'm_Mirror': 0},\n",
       "  'm_EditorCurves': [{'curve': {'serializedVersion': 2,\n",
       "     'm_Curve': [{'serializedVersion': 3,\n",
       "       'time': 0,\n",
       "       'value': 0,\n",
       "       'inSlope': 0,\n",
       "       'outSlope': 0,\n",
       "       'tangentMode': 136,\n",
       "       'weightedMode': 0,\n",
       "       'inWeight': 0.33333334,\n",
       "       'outWeight': 0.33333334},\n",
       "      {'serializedVersion': 3,\n",
       "       'time': 1,\n",
       "       'value': 0,\n",
       "       'inSlope': 0,\n",
       "       'outSlope': 0,\n",
       "       'tangentMode': 136,\n",
       "       'weightedMode': 0,\n",
       "       'inWeight': 0.33333334,\n",
       "       'outWeight': 0.33333334}],\n",
       "     'm_PreInfinity': 2,\n",
       "     'm_PostInfinity': 2,\n",
       "     'm_RotationOrder': 4},\n",
       "    'attribute': 'localEulerAnglesRaw.x',\n",
       "    'path': 'bone_1/bone_5',\n",
       "    'classID': 4,\n",
       "    'script': {'fileID': 0}},\n",
       "   {'curve': {'serializedVersion': 2,\n",
       "     'm_Curve': [{'serializedVersion': 3,\n",
       "       'time': 0,\n",
       "       'value': 0,\n",
       "       'inSlope': 0,\n",
       "       'outSlope': 0,\n",
       "       'tangentMode': 136,\n",
       "       'weightedMode': 0,\n",
       "       'inWeight': 0.33333334,\n",
       "       'outWeight': 0.33333334},\n",
       "      {'serializedVersion': 3,\n",
       "       'time': 1,\n",
       "       'value': 0,\n",
       "       'inSlope': 0,\n",
       "       'outSlope': 0,\n",
       "       'tangentMode': 136,\n",
       "       'weightedMode': 0,\n",
       "       'inWeight': 0.33333334,\n",
       "       'outWeight': 0.33333334}],\n",
       "     'm_PreInfinity': 2,\n",
       "     'm_PostInfinity': 2,\n",
       "     'm_RotationOrder': 4},\n",
       "    'attribute': 'localEulerAnglesRaw.y',\n",
       "    'path': 'bone_1/bone_5',\n",
       "    'classID': 4,\n",
       "    'script': {'fileID': 0}},\n",
       "   {'curve': {'serializedVersion': 2,\n",
       "     'm_Curve': [{'serializedVersion': 3,\n",
       "       'time': 0,\n",
       "       'value': 28.623,\n",
       "       'inSlope': 0,\n",
       "       'outSlope': 0,\n",
       "       'tangentMode': 136,\n",
       "       'weightedMode': 0,\n",
       "       'inWeight': 0.33333334,\n",
       "       'outWeight': 0.33333334},\n",
       "      {'serializedVersion': 3,\n",
       "       'time': 1,\n",
       "       'value': 28.623,\n",
       "       'inSlope': 0,\n",
       "       'outSlope': 0,\n",
       "       'tangentMode': 136,\n",
       "       'weightedMode': 0,\n",
       "       'inWeight': 0.33333334,\n",
       "       'outWeight': 0.33333334}],\n",
       "     'm_PreInfinity': 2,\n",
       "     'm_PostInfinity': 2,\n",
       "     'm_RotationOrder': 4},\n",
       "    'attribute': 'localEulerAnglesRaw.z',\n",
       "    'path': 'bone_1/bone_5',\n",
       "    'classID': 4,\n",
       "    'script': {'fileID': 0}}],\n",
       "  'm_EulerEditorCurves': [{'curve': {'serializedVersion': 2,\n",
       "     'm_Curve': [],\n",
       "     'm_PreInfinity': 2,\n",
       "     'm_PostInfinity': 2,\n",
       "     'm_RotationOrder': 4},\n",
       "    'attribute': 'm_LocalEulerAngles.x',\n",
       "    'path': 'bone_1/bone_5',\n",
       "    'classID': 4,\n",
       "    'script': {'fileID': 0}},\n",
       "   {'curve': {'serializedVersion': 2,\n",
       "     'm_Curve': [],\n",
       "     'm_PreInfinity': 2,\n",
       "     'm_PostInfinity': 2,\n",
       "     'm_RotationOrder': 4},\n",
       "    'attribute': 'm_LocalEulerAngles.y',\n",
       "    'path': 'bone_1/bone_5',\n",
       "    'classID': 4,\n",
       "    'script': {'fileID': 0}},\n",
       "   {'curve': {'serializedVersion': 2,\n",
       "     'm_Curve': [],\n",
       "     'm_PreInfinity': 2,\n",
       "     'm_PostInfinity': 2,\n",
       "     'm_RotationOrder': 4},\n",
       "    'attribute': 'm_LocalEulerAngles.z',\n",
       "    'path': 'bone_1/bone_5',\n",
       "    'classID': 4,\n",
       "    'script': {'fileID': 0}}],\n",
       "  'm_HasGenericRootTransform': 0,\n",
       "  'm_HasMotionFloatCurves': 0,\n",
       "  'm_Events': []}}"
      ]
     },
     "execution_count": 10,
     "metadata": {},
     "output_type": "execute_result"
    }
   ],
   "source": [
    "new_euler_curves = [updateDict(old_euler_curves[0],{ 'curve': bone5_curve})] #0对应bone5的编号\n",
    "new_animation_clip = updateDict(old_animation_clip,{ 'm_EulerCurves': new_euler_curves})\n",
    "new_animation_file = updateDict(old_animation_file,{ 'AnimationClip': new_animation_clip})\n",
    "new_animation_file"
   ]
  },
  {
   "cell_type": "code",
   "execution_count": 11,
   "metadata": {},
   "outputs": [],
   "source": [
    "#导出新的animation文件\n",
    "with open('newTest.yaml', mode='w', encoding='utf-8') as file:\n",
    "    yaml.dump(new_animation_file, file，default_flow_style=False, sort_keys=False)"
   ]
  },
  {
   "cell_type": "code",
   "execution_count": null,
   "metadata": {},
   "outputs": [],
   "source": []
  }
 ],
 "metadata": {
  "kernelspec": {
   "display_name": "Python 3",
   "language": "python",
   "name": "python3"
  },
  "language_info": {
   "codemirror_mode": {
    "name": "ipython",
    "version": 3
   },
   "file_extension": ".py",
   "mimetype": "text/x-python",
   "name": "python",
   "nbconvert_exporter": "python",
   "pygments_lexer": "ipython3",
   "version": "3.6.5"
  }
 },
 "nbformat": 4,
 "nbformat_minor": 2
}