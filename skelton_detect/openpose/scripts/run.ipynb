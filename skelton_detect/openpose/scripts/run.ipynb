{
 "cells": [
  {
   "cell_type": "raw",
   "source": [
    "python train.py --train-images-folder datasets/coco2017/train2017/ --prepared-train-labels train_preprocess/prepared_train_annotation.pkl --val-labels train_preprocess/val_subset.json --val-images-folder datasets/coco2017/val2017/ --checkpoint-path train_preprocess/mobilenet_sgd_68.848.pth.tar --from-mobilenet"
   ],
   "metadata": {
    "collapsed": false,
    "pycharm": {
     "name": "#%% raw\n"
    }
   }
  },
  {
   "cell_type": "raw",
   "source": [
    "python scripts/make_val_subset.py --labels datasets/coco2017/annotations/person_keypoints_val2017.json"
   ],
   "metadata": {
    "collapsed": false,
    "pycharm": {
     "name": "#%% raw\n"
    }
   }
  },
  {
   "cell_type": "raw",
   "source": [
    "python scripts/prepare_train_labels.py --labels datasets/coco2017/annotations/person_keypoints_train2017.json"
   ],
   "metadata": {
    "collapsed": false,
    "pycharm": {
     "name": "#%% raw\n"
    }
   }
  }
 ],
 "metadata": {
  "kernelspec": {
   "display_name": "Python 3",
   "language": "python",
   "name": "python3"
  },
  "language_info": {
   "codemirror_mode": {
    "name": "ipython",
    "version": 2
   },
   "file_extension": ".py",
   "mimetype": "text/x-python",
   "name": "python",
   "nbconvert_exporter": "python",
   "pygments_lexer": "ipython2",
   "version": "2.7.6"
  }
 },
 "nbformat": 4,
 "nbformat_minor": 0
}